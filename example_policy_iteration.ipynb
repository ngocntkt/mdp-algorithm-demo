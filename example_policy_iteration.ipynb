{
 "cells": [
  {
   "cell_type": "markdown",
   "metadata": {},
   "source": [
    "# Policy Iteration Algorithm Demo\n"
   ]
  },
  {
   "cell_type": "code",
   "execution_count": 3,
   "metadata": {},
   "outputs": [
    {
     "data": {
      "application/vnd.jupyter.widget-view+json": {
       "model_id": "ab2d7548e0864230af8312c67c06ca08",
       "version_major": 2,
       "version_minor": 0
      },
      "text/plain": [
       "IntSlider(value=0, description='Iterations:')"
      ]
     },
     "metadata": {},
     "output_type": "display_data"
    },
    {
     "data": {
      "application/vnd.jupyter.widget-view+json": {
       "model_id": "f43645bf83f143029d6f2b43ed4dee2b",
       "version_major": 2,
       "version_minor": 0
      },
      "text/plain": [
       "Output()"
      ]
     },
     "metadata": {},
     "output_type": "display_data"
    }
   ],
   "source": [
    "from gridworld import GridWorld\n",
    "from policy_iteration import PolicyIteration\n",
    "from tabular_policy import TabularPolicy\n",
    "import ipywidgets as widgets\n",
    "from IPython.display import display, clear_output\n",
    "\n",
    "\n",
    "gridworld = GridWorld()\n",
    "# Create an interactive slider widget\n",
    "iterations_slider = widgets.IntSlider(value=0, min=0, max=100, step=1, description='Iterations:')\n",
    "display(iterations_slider)\n",
    "\n",
    "# Create an output widget for displaying the plot\n",
    "output_widget = widgets.Output()\n",
    "display(output_widget)\n",
    "\n",
    "# Define a function to perform policy iteration and display the policy\n",
    "def perform_policy_iteration_and_display(iterations):\n",
    "    policy = TabularPolicy(default_action=gridworld.LEFT)\n",
    "    PolicyIteration(gridworld, policy).policy_iteration(max_iterations=iterations)\n",
    "    \n",
    "    # Clear the previous plot and display the new one\n",
    "    with output_widget:\n",
    "        clear_output(wait=True)\n",
    "        gridworld.visualise_policy(policy, f\"Policy after {iterations} iterations\")\n",
    "        \n",
    "\n",
    "\n",
    "# Define a callback function to update the visualization based on the slider value\n",
    "def slider_callback(change):\n",
    "    iterations = change.new\n",
    "    perform_policy_iteration_and_display(iterations)\n",
    "\n",
    "# Connect the slider to the callback function\n",
    "iterations_slider.observe(slider_callback, 'value')\n",
    "\n",
    "# Initially perform policy iteration with 0 iterations\n",
    "perform_policy_iteration_and_display(0)"
   ]
  },
  {
   "cell_type": "code",
   "execution_count": null,
   "metadata": {},
   "outputs": [],
   "source": []
  }
 ],
 "metadata": {
  "kernelspec": {
   "display_name": "cps480",
   "language": "python",
   "name": "python3"
  },
  "language_info": {
   "codemirror_mode": {
    "name": "ipython",
    "version": 3
   },
   "file_extension": ".py",
   "mimetype": "text/x-python",
   "name": "python",
   "nbconvert_exporter": "python",
   "pygments_lexer": "ipython3",
   "version": "3.10.13"
  }
 },
 "nbformat": 4,
 "nbformat_minor": 4
}
