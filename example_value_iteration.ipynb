{
 "cells": [
  {
   "cell_type": "code",
   "execution_count": 1,
   "metadata": {},
   "outputs": [
    {
     "data": {
      "application/vnd.jupyter.widget-view+json": {
       "model_id": "1c2b6711491c4956b3af23359d32ceed",
       "version_major": 2,
       "version_minor": 0
      },
      "text/plain": [
       "IntSlider(value=0, description='Iterations:')"
      ]
     },
     "metadata": {},
     "output_type": "display_data"
    },
    {
     "data": {
      "application/vnd.jupyter.widget-view+json": {
       "model_id": "cdd3faf9935c4248b9c60aca6c743243",
       "version_major": 2,
       "version_minor": 0
      },
      "text/plain": [
       "Output()"
      ]
     },
     "metadata": {},
     "output_type": "display_data"
    }
   ],
   "source": [
    "from gridworld import GridWorld\n",
    "from value_iteration import ValueIteration\n",
    "from tabular_value_function import TabularValueFunction\n",
    "import ipywidgets as widgets\n",
    "from IPython.display import display, clear_output\n",
    "\n",
    "\n",
    "gridworld = GridWorld()\n",
    "# Create an interactive slider widget\n",
    "iterations_slider = widgets.IntSlider(value=0, min=0, max=100, step=1, description='Iterations:')\n",
    "display(iterations_slider)\n",
    "\n",
    "# Create an output widget for displaying the plot\n",
    "output_widget = widgets.Output()\n",
    "display(output_widget)\n",
    "\n",
    "# Define a function to perform value iteration and display the policy\n",
    "def perform_value_iteration_and_display(iterations):\n",
    "    values = TabularValueFunction()\n",
    "    ValueIteration(gridworld, values).value_iteration(max_iterations=iterations)\n",
    "    policy = values.extract_policy(gridworld)\n",
    "    \n",
    "    # Clear the previous plot and display the new one\n",
    "    with output_widget:\n",
    "        clear_output(wait=True)\n",
    "        gridworld.visualise_value_function(values, f\"Value function after {iterations} iterations\")\n",
    "        \n",
    "\n",
    "\n",
    "# Define a callback function to update the visualization based on the slider value\n",
    "def slider_callback(change):\n",
    "    iterations = change.new\n",
    "    perform_value_iteration_and_display(iterations)\n",
    "\n",
    "# Connect the slider to the callback function\n",
    "iterations_slider.observe(slider_callback, 'value')\n",
    "\n",
    "# Initially perform value iteration with 0 iterations\n",
    "perform_value_iteration_and_display(0)\n",
    "\n",
    "\n",
    "\n",
    "\n",
    "\n"
   ]
  },
  {
   "cell_type": "code",
   "execution_count": null,
   "metadata": {},
   "outputs": [],
   "source": []
  }
 ],
 "metadata": {
  "kernelspec": {
   "display_name": "cps480",
   "language": "python",
   "name": "python3"
  },
  "language_info": {
   "codemirror_mode": {
    "name": "ipython",
    "version": 3
   },
   "file_extension": ".py",
   "mimetype": "text/x-python",
   "name": "python",
   "nbconvert_exporter": "python",
   "pygments_lexer": "ipython3",
   "version": "3.10.13"
  }
 },
 "nbformat": 4,
 "nbformat_minor": 4
}
